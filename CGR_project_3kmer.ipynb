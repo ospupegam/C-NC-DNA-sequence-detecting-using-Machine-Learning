{
  "nbformat": 4,
  "nbformat_minor": 0,
  "metadata": {
    "colab": {
      "name": "CGR_project_3kmer.ipynb",
      "provenance": [],
      "toc_visible": true
    },
    "kernelspec": {
      "display_name": "Python 3",
      "language": "python",
      "name": "python3"
    },
    "language_info": {
      "codemirror_mode": {
        "name": "ipython",
        "version": 3
      },
      "file_extension": ".py",
      "mimetype": "text/x-python",
      "name": "python",
      "nbconvert_exporter": "python",
      "pygments_lexer": "ipython3",
      "version": "3.7.3"
    }
  },
  "cells": [
    {
      "cell_type": "markdown",
      "metadata": {
        "colab_type": "text",
        "id": "4RwUrCdZrFNp"
      },
      "source": [
        "# ***C/NC DNA Detecting Code***\n",
        "\n",
        "---\n",
        "\n",
        "\n",
        "\n",
        "> This code to detect the coding and noncoding sequances (3-kmers) using chaos game representation, Chaos game representation (CGR) is an iterative mapping technique that assigns each nucleotide in a DNA sequence to a respective position on the plane in a one-to-one manner. **bold text\n",
        "\n",
        "Name:\n",
        "\n",
        "Mohamed Ahmed Mohamed Emam 1910038\n",
        "\n",
        "Amna Ali Shaheen Mohamed   1920053\n",
        "\n",
        "Master students, faculty of computer science, Nile University\n",
        "\n",
        "\n",
        "\n",
        "\n"
      ]
    },
    {
      "cell_type": "code",
      "metadata": {
        "colab_type": "code",
        "id": "WC6O1E3MmPCK",
        "colab": {}
      },
      "source": [
        "#Importing_reqiured_libraries\n",
        "%matplotlib inline\n",
        "import numpy as np\n",
        "import os\n",
        "import imageio\n",
        "import matplotlib.pylab as plt\n",
        "import math\n",
        "import pandas as pd\n",
        "from collections import defaultdict\n",
        "from pathlib import Path\n",
        "from numpy.random import seed\n",
        "import sys\n",
        "import matplotlib.cm as cm\n",
        "import pylab\n",
        "ep = sys.float_info.epsilon\n",
        "import seaborn as sn\n",
        "from sklearn import metrics\n",
        "from sklearn import model_selection\n",
        "from IPython.core.interactiveshell import InteractiveShell\n",
        "InteractiveShell.ast_node_interactivity = \"all\""
      ],
      "execution_count": 0,
      "outputs": []
    },
    {
      "cell_type": "code",
      "metadata": {
        "colab_type": "code",
        "id": "Tppjl72LktYk",
        "outputId": "4a90ae78-470f-4d77-b8c7-69d5bd38e6fc",
        "colab": {
          "base_uri": "https://localhost:8080/",
          "height": 33
        }
      },
      "source": [
        "#Retrieve_the_data\n",
        "from google.colab import drive\n",
        "drive.mount('/content/drive')"
      ],
      "execution_count": 78,
      "outputs": [
        {
          "output_type": "stream",
          "text": [
            "Drive already mounted at /content/drive; to attempt to forcibly remount, call drive.mount(\"/content/drive\", force_remount=True).\n"
          ],
          "name": "stdout"
        }
      ]
    },
    {
      "cell_type": "markdown",
      "metadata": {
        "colab_type": "text",
        "id": "JfM1kfIrbosE"
      },
      "source": [
        "We collected total 80 sequances as training data from 10 mammlian species(40 coding sequance and 40 non coding intron parts) \n",
        "\n",
        "Gene names: CSN1S1, IL2, LCE6A and SMCP\n",
        "\n",
        "We collected also total 40 sequances as testing data from 10 mammlian species(20 coding sequance and 20 non coding intron parts) \n",
        "\n",
        "Gene names: STK11 and TP53\n"
      ]
    },
    {
      "cell_type": "code",
      "metadata": {
        "colab_type": "code",
        "id": "HAUxlU-5c9Js",
        "colab": {}
      },
      "source": [
        "#chaos_game_representation_images_constractucted_using_the_following_cgr_pakage\n",
        "def cgr(inputdir,outputdir):\n",
        "    k=4             # number of combinations\n",
        "    s=2**k          # size of the matrix\n",
        "\n",
        "    bases = [\"A\", \"C\", \"G\", \"T\"]\n",
        "    def cartesian(nucleotides):\n",
        "        \"\"\" Create a cartesian product from variable nucleotides. \"\"\"\n",
        "        if not nucleotides:\n",
        "            yield \"\"\n",
        "        else:\n",
        "            for a in nucleotides[0]:\n",
        "                for b in cartesian(nucleotides[1:]):\n",
        "                    yield a + b\n",
        "\n",
        "\n",
        "    def count(sequence, sub):\n",
        "        counter = 0\n",
        "        for i in range(len(sequence) - len(sub) + 1):\n",
        "            if sequence[i:i + len(sub)] == sub:\n",
        "                counter += 1\n",
        "        return counter\n",
        "\n",
        "\n",
        "    def k_mer_probability(sequence, bases):\n",
        "        probabilities = {}\n",
        "        for b in bases:\n",
        "            probabilities[b] = count(sequence, b) / float(len(sequence) - len(b) + 1)\n",
        "        return probabilities\n",
        "\n",
        "\n",
        "    def fill_matrix_with_probabilities(bases, depth, row, column, nuk):\n",
        "\n",
        "        if depth == 0:\n",
        "            mat[column[0]][row[0]] = (ver[nuk])\n",
        "            return []\n",
        "        else:\n",
        "            for b in bases:\n",
        "                if b in ['A', 'C']:\n",
        "                    r = row[:len(row)//2]\n",
        "                else:\n",
        "                    r = row[len(row)//2:]\n",
        "                if b in ['A', 'T']:\n",
        "                    c = column[:len(column)//2]\n",
        "                else:\n",
        "                    c = column[len(column)//2:]\n",
        "                fill_matrix_with_probabilities(bases, depth - 1, r, c, nuk + b)\n",
        "            return []\n",
        "\n",
        "\n",
        "    if __name__ == \"__main__\":\n",
        "        fasta = open(inputdir)\n",
        "        fasta = fasta.read()\n",
        "\n",
        "        # create a matrix in which to represent the combinations\n",
        "        mat = np.array([[0.0 for i in range(s)] for j in range(s)], float)\n",
        "\n",
        "        # fill the matrix with probabilities, as you can tell by the function name\n",
        "        sequence = \"\".join(fasta.split(\"\\n\")[1:])\n",
        "\n",
        "        # remove unknown nucleotides\n",
        "        sequence = sequence.replace(\"N\", \"\")\n",
        "\n",
        "        # Create all possible k combinations of base nucleotides\n",
        "        combinations = list(cartesian([bases] * k))\n",
        "\n",
        "        # Calculate the probability (k-mer) of all combinations in a given sequence\n",
        "        ver = k_mer_probability(sequence, combinations)\n",
        "\n",
        "        print(ver,\"\\n\")\n",
        "        print(fasta,\"\\n\")\n",
        "        fill_matrix_with_probabilities(bases, k, [int(i) for i in range(s)], [int(i) for i in range(s)], '')\n",
        "\n",
        "        # visualization, \n",
        "        pylab.imshow(mat, extent=[0, s, 0, s], interpolation='nearest', cmap=cm.gray)\n",
        "        x_os = [a + 0.4 for a in range(s)]\n",
        "        y_os = [a + 0.4 for a in range(s)]\n",
        "        label_x = [str(i) for i in range(s)]\n",
        "        label_y = [str(i) for i in range(s-1, -1, -1)]\n",
        "        pylab.xticks(x_os, label_x)\n",
        "        pylab.yticks(y_os, label_y)\n",
        "        return pylab.savefig(outputdir)\n",
        "\n"
      ],
      "execution_count": 0,
      "outputs": []
    },
    {
      "cell_type": "code",
      "metadata": {
        "colab_type": "code",
        "id": "_MaQry7WdqVM",
        "colab": {}
      },
      "source": [
        "#Constracution_of_training_coding_seq\n",
        "path=\"/content/drive/My Drive/project/ML_cgr_data/train/coding_seq/seq\"\n",
        "os.chdir(path)\n",
        "coding_test_seq=os.listdir()\n",
        "for i in coding_test_seq:\n",
        "    cgr(path+i, path+i+'.png')\n",
        "\n",
        "#Constracution_of_training_non_coding_seq\n",
        "path=\"/content/drive/My Drive/project/ML_cgr_data/train/non_codingseq/seq\"\n",
        "os.chdir(path)\n",
        "coding_test_seq=os.listdir()\n",
        "for i in coding_test_seq:\n",
        "    cgr(path+i, path+i+'.png')\n",
        "\n",
        "#Constracution_of_testing_coding_seq\n",
        "path=\"/content/drive/My Drive/project/ML_cgr_data/test/coding/seq\"\n",
        "os.chdir(path)\n",
        "coding_test_seq=os.listdir()\n",
        "for i in coding_test_seq:\n",
        "    cgr(path+i, path+i+'.png')\n",
        "\n",
        "#Constracution_of_testing_coding_seq\n",
        "path=\"/content/drive/My Drive/project/ML_cgr_data/test/noncoding/seq\"\n",
        "os.chdir(path)\n",
        "coding_test_seq=os.listdir()\n",
        "for i in coding_test_seq:\n",
        "    cgr(path+i, path+i+'.png')\n",
        "\n",
        "#We_will_attach_the_output_cgr_data_on_Nile_university_module_and_you_can_find_it_on_google_drive_in_the_link_below:\n",
        "#https://drive.google.com/drive/folders/1cAMKoKg03kKOmxaggMFxnCBhobF8Xddt?usp=sharing"
      ],
      "execution_count": 0,
      "outputs": []
    },
    {
      "cell_type": "markdown",
      "metadata": {
        "colab_type": "text",
        "id": "wDMGbb8LRgz7"
      },
      "source": [
        "after start anything, we must create two lists : \n",
        "\n",
        "---\n",
        "\n",
        "\n",
        "\n",
        "1. inp_out_needed list : contains all data frame that, we will create in the next step that contain coding & noncoding of train & test cgr images.\n",
        "\n",
        "2. paths list : that contain path of each data (coding & noncoding of train & test cgr images) on your google drive.\n",
        "\n",
        "\n",
        " "
      ]
    },
    {
      "cell_type": "code",
      "metadata": {
        "colab_type": "code",
        "id": "49rzQUhlB7Nu",
        "colab": {}
      },
      "source": [
        "inp_out_needed=['train_coding_df1','train_noncoding_df1','test_coding_df1','test_noncoding_df1']\n",
        "paths={'train_coding_df1':'/content/drive/My Drive/project/ML_cgr_data_3kmers/train/coding','train_noncoding_df1':'/content/drive/My Drive/project/ML_cgr_data_3kmers/train/noncoding','test_coding_df1':'/content/drive/My Drive/project/ML_cgr_data_3kmers/test/coding','test_noncoding_df1':'/content/drive/My Drive/project/ML_cgr_data_3kmers/test/noncoding'}"
      ],
      "execution_count": 0,
      "outputs": []
    },
    {
      "cell_type": "markdown",
      "metadata": {
        "colab_type": "text",
        "id": "IMAMZqUmH5s-"
      },
      "source": [
        "***First*** : read each CGR image and flat it to row in data frame to intilization machine learning processing\n"
      ]
    },
    {
      "cell_type": "code",
      "metadata": {
        "colab_type": "code",
        "id": "mnvVW912B7jE",
        "colab": {}
      },
      "source": [
        "# df_image is a subfunction to create data frame from read each CGR image where each row is one image"
      ],
      "execution_count": 0,
      "outputs": []
    },
    {
      "cell_type": "code",
      "metadata": {
        "colab_type": "code",
        "id": "s5_ts-YkB7yJ",
        "colab": {}
      },
      "source": [
        "def df_image(Images):\n",
        "  Images1=sorted(Images) # sort them ascendingly \n",
        "  ImagF=np.zeros((len(Images),497664))  # All Images\n",
        "  for i in range(len(Images1)):\n",
        "      ImagF_1=imageio.imread(Images1[i])\n",
        "      ImagF[i,:]=ImagF_1.reshape((1,497664))\n",
        "  return pd.DataFrame(ImagF)"
      ],
      "execution_count": 0,
      "outputs": []
    },
    {
      "cell_type": "markdown",
      "metadata": {
        "colab_type": "text",
        "id": "u3ihN3LcJpXF"
      },
      "source": [
        "***Second*** : Assgin class to coding and noncoding images to can make classification"
      ]
    },
    {
      "cell_type": "code",
      "metadata": {
        "colab_type": "code",
        "id": "y0OGITH1B8DX",
        "colab": {}
      },
      "source": [
        "# clas_assign is a subfunction to assign class 1 (one) to each coding cgr images data frame and class 0 (zero) to  noncoding cgr images data frame"
      ],
      "execution_count": 0,
      "outputs": []
    },
    {
      "cell_type": "code",
      "metadata": {
        "colab_type": "code",
        "id": "iKXOjexjB8Sa",
        "colab": {}
      },
      "source": [
        "def clas_assign(Images,c,b):\n",
        "  c= df_image(Images)\n",
        "  if b.split('_')[1] =='coding':\n",
        "    c['y']=np.ones((len(c)))\n",
        "  elif b.split('_')[1] =='noncoding':\n",
        "    c['y']=np.zeros((len(c)))\n",
        "  return c"
      ],
      "execution_count": 0,
      "outputs": []
    },
    {
      "cell_type": "markdown",
      "metadata": {
        "colab_type": "text",
        "id": "Vs2Pv7vGLBpk"
      },
      "source": [
        "***Third***: Create Train & Test Data Frame that contain coding and noncoding images :\n",
        "\n",
        "train data frame = train coding cgr image (with class one ) + train noncoding cgr image (with class zero )\n",
        "\n",
        " &\n",
        "  test data frame = test coding cgr image (with class one ) + test noncoding cgr image (with class zero )\n",
        "  \n",
        "  \n",
        "  By two step A & B & C"
      ]
    },
    {
      "cell_type": "code",
      "metadata": {
        "colab_type": "code",
        "id": "0-TyPYc8B8fy",
        "colab": {}
      },
      "source": [
        "#A- For loop to make data frame from taking different types of images (coding & noncoding) from different folder (tain & test)  "
      ],
      "execution_count": 0,
      "outputs": []
    },
    {
      "cell_type": "code",
      "metadata": {
        "colab_type": "code",
        "id": "wfolnJN_B8uZ",
        "colab": {}
      },
      "source": [
        "for c in inp_out_needed:\n",
        "  b=c\n",
        "  home_path = os.getcwd()\n",
        "  path=paths[c]\n",
        "  os.chdir(path)\n",
        "  Images=os.listdir()\n",
        "  exec('{} = clas_assign(Images,c,b)'.format(c))"
      ],
      "execution_count": 0,
      "outputs": []
    },
    {
      "cell_type": "code",
      "metadata": {
        "colab_type": "code",
        "id": "CsBeSmTlG01L",
        "colab": {}
      },
      "source": [
        "# B- Merge codind & noncoding traing data (after assign class to each one ) in one train data frame and\n",
        "# codind & noncoding testing data (after assign class to each one ) in one test data frame "
      ],
      "execution_count": 0,
      "outputs": []
    },
    {
      "cell_type": "code",
      "metadata": {
        "colab_type": "code",
        "id": "P5rK3ebmG1Bv",
        "colab": {}
      },
      "source": [
        "# merge coding sequence of train data to noncoding sequence of train data to obtain training sequence data frame\n",
        "train_coding_noncoding1=pd.concat([train_coding_df1,train_noncoding_df1])\n",
        "# merge coding sequence of test data to noncoding sequence of test data to obtain testing sequence data frame\n",
        "test_coding_noncoding1=pd.concat([test_coding_df1,test_noncoding_df1])"
      ],
      "execution_count": 0,
      "outputs": []
    },
    {
      "cell_type": "code",
      "metadata": {
        "colab_type": "code",
        "id": "K0o-Jg16G09X",
        "colab": {}
      },
      "source": [
        "# C - split train dataframe (from step B ) to X_train (data) & y_train (labeles) variables to can start machine learning classification"
      ],
      "execution_count": 0,
      "outputs": []
    },
    {
      "cell_type": "code",
      "metadata": {
        "colab_type": "code",
        "id": "EbymK4HKic6Z",
        "colab": {}
      },
      "source": [
        "X_train=train_coding_noncoding1.iloc[:,:-1]\n",
        "X_test=test_coding_noncoding1.iloc[:,:-1]\n",
        "y_train=train_coding_noncoding1.iloc[:,-1]\n",
        "y_test=test_coding_noncoding1.iloc[:,-1]"
      ],
      "execution_count": 0,
      "outputs": []
    },
    {
      "cell_type": "code",
      "metadata": {
        "colab_type": "code",
        "id": "51-ngb1YAF-4",
        "colab": {}
      },
      "source": [
        "# D- Statistical Data Analysis :"
      ],
      "execution_count": 0,
      "outputs": []
    },
    {
      "cell_type": "code",
      "metadata": {
        "colab_type": "code",
        "id": "3O9IOuZ6AN3U",
        "outputId": "07ab7047-5897-4c97-bf3f-ddfcf9582dcf",
        "colab": {
          "base_uri": "https://localhost:8080/",
          "height": 233
        }
      },
      "source": [
        "X_train_mean=np.mean(X_train)\n",
        "print('mean = ',X_train_mean)\n",
        "X_train_median=np.median(X_train)\n",
        "print('median =',X_train_median)"
      ],
      "execution_count": 10,
      "outputs": [
        {
          "output_type": "stream",
          "text": [
            "mean =  0         255.0\n",
            "1         255.0\n",
            "2         255.0\n",
            "3         255.0\n",
            "4         255.0\n",
            "          ...  \n",
            "497659    255.0\n",
            "497660    255.0\n",
            "497661    255.0\n",
            "497662    255.0\n",
            "497663    255.0\n",
            "Length: 497664, dtype: float64\n",
            "median = 255.0\n"
          ],
          "name": "stdout"
        }
      ]
    },
    {
      "cell_type": "code",
      "metadata": {
        "colab_type": "code",
        "id": "GrBIKC2cz-do",
        "colab": {}
      },
      "source": [
        "df_resultcol=['NaiveBayes','logistic regression','KNN','Perceptron']\n",
        "df_resultrow=['Accuracy','Cross_Validation','Confusion_Matrix']"
      ],
      "execution_count": 0,
      "outputs": []
    },
    {
      "cell_type": "code",
      "metadata": {
        "colab_type": "code",
        "id": "8sYsgkq24xXq",
        "outputId": "17f8176b-bfa0-4f12-a1b4-3a03c9337927",
        "colab": {
          "base_uri": "https://localhost:8080/",
          "height": 137
        }
      },
      "source": [
        "df_result=pd.DataFrame(columns=df_resultcol,index=df_resultrow)\n",
        "df_result"
      ],
      "execution_count": 99,
      "outputs": [
        {
          "output_type": "execute_result",
          "data": {
            "text/html": [
              "<div>\n",
              "<style scoped>\n",
              "    .dataframe tbody tr th:only-of-type {\n",
              "        vertical-align: middle;\n",
              "    }\n",
              "\n",
              "    .dataframe tbody tr th {\n",
              "        vertical-align: top;\n",
              "    }\n",
              "\n",
              "    .dataframe thead th {\n",
              "        text-align: right;\n",
              "    }\n",
              "</style>\n",
              "<table border=\"1\" class=\"dataframe\">\n",
              "  <thead>\n",
              "    <tr style=\"text-align: right;\">\n",
              "      <th></th>\n",
              "      <th>NaiveBayes</th>\n",
              "      <th>logistic regression</th>\n",
              "      <th>KNN</th>\n",
              "      <th>Perceptron</th>\n",
              "    </tr>\n",
              "  </thead>\n",
              "  <tbody>\n",
              "    <tr>\n",
              "      <th>Accuracy</th>\n",
              "      <td>NaN</td>\n",
              "      <td>NaN</td>\n",
              "      <td>NaN</td>\n",
              "      <td>NaN</td>\n",
              "    </tr>\n",
              "    <tr>\n",
              "      <th>Cross_Validation</th>\n",
              "      <td>NaN</td>\n",
              "      <td>NaN</td>\n",
              "      <td>NaN</td>\n",
              "      <td>NaN</td>\n",
              "    </tr>\n",
              "    <tr>\n",
              "      <th>Confusion_Matrix</th>\n",
              "      <td>NaN</td>\n",
              "      <td>NaN</td>\n",
              "      <td>NaN</td>\n",
              "      <td>NaN</td>\n",
              "    </tr>\n",
              "  </tbody>\n",
              "</table>\n",
              "</div>"
            ],
            "text/plain": [
              "                 NaiveBayes logistic regression  KNN Perceptron\n",
              "Accuracy                NaN                 NaN  NaN        NaN\n",
              "Cross_Validation        NaN                 NaN  NaN        NaN\n",
              "Confusion_Matrix        NaN                 NaN  NaN        NaN"
            ]
          },
          "metadata": {
            "tags": []
          },
          "execution_count": 99
        }
      ]
    },
    {
      "cell_type": "code",
      "metadata": {
        "colab_type": "code",
        "id": "-W-exANlDveq",
        "colab": {}
      },
      "source": [
        "# E- feature scaling\n",
        "from sklearn.preprocessing import StandardScaler\n",
        "sc= StandardScaler()\n",
        "X_train=sc.fit_transform(X_train)\n",
        "X_test=sc.transform(X_test)"
      ],
      "execution_count": 0,
      "outputs": []
    },
    {
      "cell_type": "code",
      "metadata": {
        "id": "V2uFGFtf-F98",
        "colab_type": "code",
        "colab": {}
      },
      "source": [
        "# F- Statistical Data Analysis after Scalling:"
      ],
      "execution_count": 0,
      "outputs": []
    },
    {
      "cell_type": "code",
      "metadata": {
        "id": "GiA_0TON-ClL",
        "colab_type": "code",
        "outputId": "2fea7d97-16e3-4d99-b19f-592d24132b71",
        "colab": {
          "base_uri": "https://localhost:8080/",
          "height": 50
        }
      },
      "source": [
        "X_train_mean=np.mean(X_train)\n",
        "print('mean = ',X_train_mean)\n",
        "X_train_median=np.median(X_train)\n",
        "print('median =',X_train_median)"
      ],
      "execution_count": 14,
      "outputs": [
        {
          "output_type": "stream",
          "text": [
            "mean =  1.5969004096884234e-18\n",
            "median = 0.0\n"
          ],
          "name": "stdout"
        }
      ]
    },
    {
      "cell_type": "markdown",
      "metadata": {
        "colab_type": "text",
        "id": "RraTMda3PGXl"
      },
      "source": [
        "***Forth*** : Apply different type of classification :\n",
        "\n",
        "1- Naive Bayes Classifier (supervised linear classifier)\n",
        "\n",
        "2- Logistic regression (supervised linear classifier)\n",
        "\n",
        "3- k-nearst neighbor classifier ( supervised nonlinear classifier)\n",
        "\n",
        "4- perceptron (supervised linear classifier)\n",
        "\n"
      ]
    },
    {
      "cell_type": "code",
      "metadata": {
        "colab_type": "code",
        "id": "CjLik5cxLXBo",
        "colab": {}
      },
      "source": [
        "#1- Naive Bayes Classifier"
      ],
      "execution_count": 0,
      "outputs": []
    },
    {
      "cell_type": "code",
      "metadata": {
        "colab_type": "code",
        "id": "4r69jARAl2lK",
        "outputId": "48b16452-3154-4eac-d5fd-9e7b97b3d7ca",
        "colab": {
          "base_uri": "https://localhost:8080/",
          "height": 33
        }
      },
      "source": [
        "#Import Gaussian Naive Bayes model\n",
        "from sklearn.naive_bayes import GaussianNB\n",
        "\n",
        "#Create a Gaussian Classifier\n",
        "model_n = GaussianNB()\n",
        "\n",
        "# Train the model using the training sets\n",
        "model_n.fit(X_train, y_train)\n",
        "\n",
        "#Predict Output\n",
        "y_pred_nai = model_n.predict(X_test) "
      ],
      "execution_count": 94,
      "outputs": [
        {
          "output_type": "execute_result",
          "data": {
            "text/plain": [
              "GaussianNB(priors=None, var_smoothing=1e-09)"
            ]
          },
          "metadata": {
            "tags": []
          },
          "execution_count": 94
        }
      ]
    },
    {
      "cell_type": "code",
      "metadata": {
        "colab_type": "code",
        "id": "uuBkSeuIl26R",
        "outputId": "19410499-94cd-4e47-d10f-c277d62f11ed",
        "colab": {
          "base_uri": "https://localhost:8080/",
          "height": 50
        }
      },
      "source": [
        "# confusion matrix\n",
        "os.chdir(home_path)\n",
        "from sklearn.metrics import confusion_matrix\n",
        "cm_naiv=confusion_matrix(y_test,y_pred_nai)\n",
        "cm_naiv"
      ],
      "execution_count": 100,
      "outputs": [
        {
          "output_type": "execute_result",
          "data": {
            "text/plain": [
              "array([[ 4, 16],\n",
              "       [ 0, 20]])"
            ]
          },
          "metadata": {
            "tags": []
          },
          "execution_count": 100
        }
      ]
    },
    {
      "cell_type": "code",
      "metadata": {
        "colab_type": "code",
        "id": "UUB413aiqXMY",
        "outputId": "a663e7ba-ad0c-439f-b605-158afefc8aac",
        "colab": {
          "base_uri": "https://localhost:8080/",
          "height": 297
        }
      },
      "source": [
        "os.chdir(home_path)\n",
        "cm_picture_nav=sn.heatmap(pd.DataFrame(cm_naiv),cmap=\"Blues\", annot=True)\n",
        "figure1 = cm_picture_nav.get_figure()   \n",
        "plt.title(\"Confusion Matrix Naive Bayes\")\n",
        "figure1.savefig('/content/drive/My Drive/project/ML_cgr_data/Confusion_NaiveBayes.jpg', dpi=400)"
      ],
      "execution_count": 101,
      "outputs": [
        {
          "output_type": "execute_result",
          "data": {
            "text/plain": [
              "Text(0.5, 1.0, 'Confusion Matrix Naive Bayes')"
            ]
          },
          "metadata": {
            "tags": []
          },
          "execution_count": 101
        },
        {
          "output_type": "display_data",
          "data": {
            "image/png": "[encoded data removed]",
            "text/plain": [
              "<Figure size 432x288 with 2 Axes>"
            ]
          },
          "metadata": {
            "tags": [],
            "needs_background": "light"
          }
        }
      ]
    },
    {
      "cell_type": "code",
      "metadata": {
        "colab_type": "code",
        "id": "nq8z-yx_qvQP",
        "outputId": "63e2ef4f-4fbb-47f8-d343-cbd37d8860b4",
        "colab": {
          "base_uri": "https://localhost:8080/",
          "height": 33
        }
      },
      "source": [
        "model_n.score(X_test, y_test)"
      ],
      "execution_count": 102,
      "outputs": [
        {
          "output_type": "execute_result",
          "data": {
            "text/plain": [
              "0.6"
            ]
          },
          "metadata": {
            "tags": []
          },
          "execution_count": 102
        }
      ]
    },
    {
      "cell_type": "code",
      "metadata": {
        "colab_type": "code",
        "id": "PsIoZRO6snrY",
        "outputId": "665a505c-86e0-45fd-8a70-f095a7773659",
        "colab": {
          "base_uri": "https://localhost:8080/",
          "height": 33
        }
      },
      "source": [
        "#Calculate Accuracy and Print it\n",
        "accu_navie=sum([1 for i, j in zip(y_pred_nai, y_test) if i == j])/len(y_test)\n",
        "print(\"Accuracy = \" ,accu_navie*100, \"%\")"
      ],
      "execution_count": 103,
      "outputs": [
        {
          "output_type": "stream",
          "text": [
            "Accuracy =  60.0 %\n"
          ],
          "name": "stdout"
        }
      ]
    },
    {
      "cell_type": "code",
      "metadata": {
        "colab_type": "code",
        "id": "mL_Kf-HmDx-9",
        "outputId": "34768e26-7f33-41a7-bb6d-506df138b687",
        "colab": {
          "base_uri": "https://localhost:8080/",
          "height": 33
        }
      },
      "source": [
        "# calculating the mean R^2 for a set of predictions:\n",
        "results_naiv = model_selection.cross_val_score(model_n, X_train, y_train,cv=None)\n",
        "results_naiv"
      ],
      "execution_count": 104,
      "outputs": [
        {
          "output_type": "execute_result",
          "data": {
            "text/plain": [
              "array([0.9375, 1.    , 1.    , 0.9375, 0.625 ])"
            ]
          },
          "metadata": {
            "tags": []
          },
          "execution_count": 104
        }
      ]
    },
    {
      "cell_type": "code",
      "metadata": {
        "colab_type": "code",
        "id": "vgOMOspg1xV4",
        "outputId": "cfcbc743-dd7c-455d-d1fa-c3654d792fdf",
        "colab": {
          "base_uri": "https://localhost:8080/",
          "height": 137
        }
      },
      "source": [
        "df_result['NaiveBayes']=pd.Series({'Accuracy':accu_navie,'Cross_Validation':results_naiv,'Confusion_Matrix':cm_naiv})\n",
        "df_result"
      ],
      "execution_count": 105,
      "outputs": [
        {
          "output_type": "execute_result",
          "data": {
            "text/html": [
              "<div>\n",
              "<style scoped>\n",
              "    .dataframe tbody tr th:only-of-type {\n",
              "        vertical-align: middle;\n",
              "    }\n",
              "\n",
              "    .dataframe tbody tr th {\n",
              "        vertical-align: top;\n",
              "    }\n",
              "\n",
              "    .dataframe thead th {\n",
              "        text-align: right;\n",
              "    }\n",
              "</style>\n",
              "<table border=\"1\" class=\"dataframe\">\n",
              "  <thead>\n",
              "    <tr style=\"text-align: right;\">\n",
              "      <th></th>\n",
              "      <th>NaiveBayes</th>\n",
              "      <th>logistic regression</th>\n",
              "      <th>KNN</th>\n",
              "      <th>Perceptron</th>\n",
              "    </tr>\n",
              "  </thead>\n",
              "  <tbody>\n",
              "    <tr>\n",
              "      <th>Accuracy</th>\n",
              "      <td>0.6</td>\n",
              "      <td>NaN</td>\n",
              "      <td>NaN</td>\n",
              "      <td>NaN</td>\n",
              "    </tr>\n",
              "    <tr>\n",
              "      <th>Cross_Validation</th>\n",
              "      <td>[0.9375, 1.0, 1.0, 0.9375, 0.625]</td>\n",
              "      <td>NaN</td>\n",
              "      <td>NaN</td>\n",
              "      <td>NaN</td>\n",
              "    </tr>\n",
              "    <tr>\n",
              "      <th>Confusion_Matrix</th>\n",
              "      <td>[[4, 16], [0, 20]]</td>\n",
              "      <td>NaN</td>\n",
              "      <td>NaN</td>\n",
              "      <td>NaN</td>\n",
              "    </tr>\n",
              "  </tbody>\n",
              "</table>\n",
              "</div>"
            ],
            "text/plain": [
              "                                         NaiveBayes  ... Perceptron\n",
              "Accuracy                                        0.6  ...        NaN\n",
              "Cross_Validation  [0.9375, 1.0, 1.0, 0.9375, 0.625]  ...        NaN\n",
              "Confusion_Matrix                 [[4, 16], [0, 20]]  ...        NaN\n",
              "\n",
              "[3 rows x 4 columns]"
            ]
          },
          "metadata": {
            "tags": []
          },
          "execution_count": 105
        }
      ]
    },
    {
      "cell_type": "code",
      "metadata": {
        "colab_type": "code",
        "id": "fe1RlAJn8HYx",
        "colab": {}
      },
      "source": [
        "#2- logistic regression"
      ],
      "execution_count": 0,
      "outputs": []
    },
    {
      "cell_type": "code",
      "metadata": {
        "id": "8aun5ZWPwoE7",
        "colab_type": "code",
        "colab": {}
      },
      "source": [
        "X_train=train_coding_noncoding1.iloc[:,:-1]\n",
        "X_test=test_coding_noncoding1.iloc[:,:-1]\n",
        "y_train=train_coding_noncoding1.iloc[:,-1]\n",
        "y_test=test_coding_noncoding1.iloc[:,-1]"
      ],
      "execution_count": 0,
      "outputs": []
    },
    {
      "cell_type": "code",
      "metadata": {
        "colab_type": "code",
        "id": "WfVnmtZYFlDX",
        "colab": {}
      },
      "source": [
        "from sklearn.linear_model import LogisticRegression\n",
        "from sklearn import linear_model"
      ],
      "execution_count": 0,
      "outputs": []
    },
    {
      "cell_type": "code",
      "metadata": {
        "colab_type": "code",
        "id": "QlCUHpETFoKq",
        "colab": {}
      },
      "source": [
        "clf =linear_model.LogisticRegression().fit(X_train, y_train)"
      ],
      "execution_count": 0,
      "outputs": []
    },
    {
      "cell_type": "code",
      "metadata": {
        "colab_type": "code",
        "id": "z1CU1Bl5Fo1K",
        "colab": {}
      },
      "source": [
        "y_pred_log1=clf.predict(X_test)"
      ],
      "execution_count": 0,
      "outputs": []
    },
    {
      "cell_type": "code",
      "metadata": {
        "colab_type": "code",
        "id": "cbLHoghiUlH0",
        "outputId": "7885523d-fda3-47b6-cc0b-510f91d14092",
        "colab": {
          "base_uri": "https://localhost:8080/",
          "height": 50
        }
      },
      "source": [
        "# confusion matrix\n",
        "os.chdir(home_path)\n",
        "from sklearn.metrics import confusion_matrix\n",
        "cm_logistic=confusion_matrix(y_test,y_pred_log1)\n",
        "cm_logistic"
      ],
      "execution_count": 110,
      "outputs": [
        {
          "output_type": "execute_result",
          "data": {
            "text/plain": [
              "array([[20,  0],\n",
              "       [ 1, 19]])"
            ]
          },
          "metadata": {
            "tags": []
          },
          "execution_count": 110
        }
      ]
    },
    {
      "cell_type": "code",
      "metadata": {
        "colab_type": "code",
        "id": "U_7iZgxdU839",
        "outputId": "89b2e608-e17c-4fbc-dcdc-9696b2ff384d",
        "colab": {
          "base_uri": "https://localhost:8080/",
          "height": 297
        }
      },
      "source": [
        "os.chdir(home_path)\n",
        "cm_picture_logistic=sn.heatmap(pd.DataFrame(cm_logistic),cmap=\"Blues\", annot=True)\n",
        "figure1 = cm_picture_logistic.get_figure()   \n",
        "plt.title(\"Confusion Matrix Logistic Regression\")\n",
        "figure1.savefig('/content/drive/My Drive/project/ML_cgr_data/Confusion_Logistic.jpg', dpi=400)"
      ],
      "execution_count": 111,
      "outputs": [
        {
          "output_type": "execute_result",
          "data": {
            "text/plain": [
              "Text(0.5, 1.0, 'Confusion Matrix Logistic Regression')"
            ]
          },
          "metadata": {
            "tags": []
          },
          "execution_count": 111
        },
        {
          "output_type": "display_data",
          "data": {
            "image/png": "[encoded data removed]",
            "text/plain": [
              "<Figure size 432x288 with 2 Axes>"
            ]
          },
          "metadata": {
            "tags": [],
            "needs_background": "light"
          }
        }
      ]
    },
    {
      "cell_type": "code",
      "metadata": {
        "colab_type": "code",
        "id": "UVSc0_eSVzgf",
        "outputId": "8a7424ee-b3c8-41ff-a7bc-4490ad04e35f",
        "colab": {
          "base_uri": "https://localhost:8080/",
          "height": 33
        }
      },
      "source": [
        "#Calculate Accuracy and Print it\n",
        "accu_log=sum([1 for i, j in zip(y_pred_log1, y_test) if i == j])/len(y_test)\n",
        "print(\"Accuracy = \" ,accu_log*100, \"%\")"
      ],
      "execution_count": 112,
      "outputs": [
        {
          "output_type": "stream",
          "text": [
            "Accuracy =  97.5 %\n"
          ],
          "name": "stdout"
        }
      ]
    },
    {
      "cell_type": "code",
      "metadata": {
        "colab_type": "code",
        "id": "KekT3KqoFo5i",
        "outputId": "fe2d4ccd-2797-4dfa-cd8f-1e30ec40552c",
        "colab": {
          "base_uri": "https://localhost:8080/",
          "height": 33
        }
      },
      "source": [
        "clf.score(X_test, y_test)"
      ],
      "execution_count": 113,
      "outputs": [
        {
          "output_type": "execute_result",
          "data": {
            "text/plain": [
              "0.975"
            ]
          },
          "metadata": {
            "tags": []
          },
          "execution_count": 113
        }
      ]
    },
    {
      "cell_type": "code",
      "metadata": {
        "colab_type": "code",
        "id": "6mK8nioeLBh1",
        "outputId": "85626f0f-7677-4d95-cddb-4dd81feaa225",
        "colab": {
          "base_uri": "https://localhost:8080/",
          "height": 33
        }
      },
      "source": [
        "# calculating the mean R^2 for a set of predictions:\n",
        "results_log = model_selection.cross_val_score(clf, X_train, y_train,cv=5, scoring='r2')\n",
        "results_log"
      ],
      "execution_count": 114,
      "outputs": [
        {
          "output_type": "execute_result",
          "data": {
            "text/plain": [
              "array([0.75, 1.  , 1.  , 1.  , 1.  ])"
            ]
          },
          "metadata": {
            "tags": []
          },
          "execution_count": 114
        }
      ]
    },
    {
      "cell_type": "code",
      "metadata": {
        "colab_type": "code",
        "id": "OymQu9hT2T1C",
        "outputId": "efcccd85-1958-4e76-8564-1680dd33cf13",
        "colab": {
          "base_uri": "https://localhost:8080/",
          "height": 137
        }
      },
      "source": [
        "df_result['logistic regression']=pd.Series({'Accuracy': accu_log,'Cross_Validation':results_log,'Confusion_Matrix':cm_logistic})\n",
        "df_result"
      ],
      "execution_count": 115,
      "outputs": [
        {
          "output_type": "execute_result",
          "data": {
            "text/html": [
              "<div>\n",
              "<style scoped>\n",
              "    .dataframe tbody tr th:only-of-type {\n",
              "        vertical-align: middle;\n",
              "    }\n",
              "\n",
              "    .dataframe tbody tr th {\n",
              "        vertical-align: top;\n",
              "    }\n",
              "\n",
              "    .dataframe thead th {\n",
              "        text-align: right;\n",
              "    }\n",
              "</style>\n",
              "<table border=\"1\" class=\"dataframe\">\n",
              "  <thead>\n",
              "    <tr style=\"text-align: right;\">\n",
              "      <th></th>\n",
              "      <th>NaiveBayes</th>\n",
              "      <th>logistic regression</th>\n",
              "      <th>KNN</th>\n",
              "      <th>Perceptron</th>\n",
              "    </tr>\n",
              "  </thead>\n",
              "  <tbody>\n",
              "    <tr>\n",
              "      <th>Accuracy</th>\n",
              "      <td>0.6</td>\n",
              "      <td>0.975</td>\n",
              "      <td>NaN</td>\n",
              "      <td>NaN</td>\n",
              "    </tr>\n",
              "    <tr>\n",
              "      <th>Cross_Validation</th>\n",
              "      <td>[0.9375, 1.0, 1.0, 0.9375, 0.625]</td>\n",
              "      <td>[0.75, 1.0, 1.0, 1.0, 1.0]</td>\n",
              "      <td>NaN</td>\n",
              "      <td>NaN</td>\n",
              "    </tr>\n",
              "    <tr>\n",
              "      <th>Confusion_Matrix</th>\n",
              "      <td>[[4, 16], [0, 20]]</td>\n",
              "      <td>[[20, 0], [1, 19]]</td>\n",
              "      <td>NaN</td>\n",
              "      <td>NaN</td>\n",
              "    </tr>\n",
              "  </tbody>\n",
              "</table>\n",
              "</div>"
            ],
            "text/plain": [
              "                                         NaiveBayes  ... Perceptron\n",
              "Accuracy                                        0.6  ...        NaN\n",
              "Cross_Validation  [0.9375, 1.0, 1.0, 0.9375, 0.625]  ...        NaN\n",
              "Confusion_Matrix                 [[4, 16], [0, 20]]  ...        NaN\n",
              "\n",
              "[3 rows x 4 columns]"
            ]
          },
          "metadata": {
            "tags": []
          },
          "execution_count": 115
        }
      ]
    },
    {
      "cell_type": "code",
      "metadata": {
        "colab_type": "code",
        "id": "xSFeTpuuLZYS",
        "colab": {}
      },
      "source": [
        "# 3- KNN:"
      ],
      "execution_count": 0,
      "outputs": []
    },
    {
      "cell_type": "code",
      "metadata": {
        "id": "kiOprqLEwb96",
        "colab_type": "code",
        "colab": {}
      },
      "source": [
        "X_train=train_coding_noncoding1.iloc[:,:-1]\n",
        "X_test=test_coding_noncoding1.iloc[:,:-1]\n",
        "y_train=train_coding_noncoding1.iloc[:,-1]\n",
        "y_test=test_coding_noncoding1.iloc[:,-1]"
      ],
      "execution_count": 0,
      "outputs": []
    },
    {
      "cell_type": "code",
      "metadata": {
        "id": "oOw1nMz7wcMX",
        "colab_type": "code",
        "colab": {}
      },
      "source": [
        "# E- feature scaling\n",
        "from sklearn.preprocessing import StandardScaler\n",
        "sc= StandardScaler()\n",
        "X_train=sc.fit_transform(X_train)\n",
        "X_test=sc.transform(X_test)"
      ],
      "execution_count": 0,
      "outputs": []
    },
    {
      "cell_type": "code",
      "metadata": {
        "colab_type": "code",
        "id": "kHwQE46PLfQo",
        "outputId": "52fd9260-8f77-43e6-98dc-ca6b752feda8",
        "colab": {
          "base_uri": "https://localhost:8080/",
          "height": 66
        }
      },
      "source": [
        "from sklearn.neighbors import KNeighborsClassifier\n",
        "from sklearn.model_selection import cross_val_score\n",
        "neigh = KNeighborsClassifier(n_neighbors=25, metric= 'euclidean')\n",
        "neigh.fit(X_train, y_train)\n",
        "\n",
        "preds1 = neigh.predict(X_test)\n",
        "preds1.shape\n"
      ],
      "execution_count": 118,
      "outputs": [
        {
          "output_type": "execute_result",
          "data": {
            "text/plain": [
              "KNeighborsClassifier(algorithm='auto', leaf_size=30, metric='euclidean',\n",
              "                     metric_params=None, n_jobs=None, n_neighbors=25, p=2,\n",
              "                     weights='uniform')"
            ]
          },
          "metadata": {
            "tags": []
          },
          "execution_count": 118
        },
        {
          "output_type": "execute_result",
          "data": {
            "text/plain": [
              "(40,)"
            ]
          },
          "metadata": {
            "tags": []
          },
          "execution_count": 118
        }
      ]
    },
    {
      "cell_type": "code",
      "metadata": {
        "colab_type": "code",
        "id": "vlcsrAjIMIZV",
        "outputId": "6a27bc54-cce7-41f0-dca7-0179a8476271",
        "colab": {
          "base_uri": "https://localhost:8080/",
          "height": 50
        }
      },
      "source": [
        "# confusion matrix\n",
        "os.chdir(home_path)\n",
        "from sklearn.metrics import confusion_matrix\n",
        "cm_knn=confusion_matrix(y_test,preds1)\n",
        "cm_knn"
      ],
      "execution_count": 119,
      "outputs": [
        {
          "output_type": "execute_result",
          "data": {
            "text/plain": [
              "array([[ 7, 13],\n",
              "       [ 0, 20]])"
            ]
          },
          "metadata": {
            "tags": []
          },
          "execution_count": 119
        }
      ]
    },
    {
      "cell_type": "code",
      "metadata": {
        "colab_type": "code",
        "id": "k78ClrVxOx-w",
        "outputId": "118a551b-d340-4dcd-a3b0-1b265b706487",
        "colab": {
          "base_uri": "https://localhost:8080/",
          "height": 297
        }
      },
      "source": [
        "os.chdir(home_path)\n",
        "cm_picture2=sn.heatmap(pd.DataFrame(cm_knn),cmap=\"Blues\", annot=True)\n",
        "figure2 = cm_picture2.get_figure()   \n",
        "plt.title(\"Confusion Matrix KNN\")\n",
        "figure2.savefig('/content/drive/My Drive/project/ML_cgr_data/Confusion_KNN.jpg', dpi=400)"
      ],
      "execution_count": 120,
      "outputs": [
        {
          "output_type": "execute_result",
          "data": {
            "text/plain": [
              "Text(0.5, 1.0, 'Confusion Matrix KNN')"
            ]
          },
          "metadata": {
            "tags": []
          },
          "execution_count": 120
        },
        {
          "output_type": "display_data",
          "data": {
            "image/png": "[encoded data removed]",
            "text/plain": [
              "<Figure size 432x288 with 2 Axes>"
            ]
          },
          "metadata": {
            "tags": [],
            "needs_background": "light"
          }
        }
      ]
    },
    {
      "cell_type": "code",
      "metadata": {
        "colab_type": "code",
        "id": "KZVoxk6OMfNW",
        "outputId": "d2abe5ce-c0ba-496e-a3cd-fc9acff1a62b",
        "colab": {
          "base_uri": "https://localhost:8080/",
          "height": 33
        }
      },
      "source": [
        "#Calculate Accuracy and Print it\n",
        "accu_knn=sum([1 for i, j in zip(preds1, y_test) if i == j])/len(y_test)\n",
        "print(\"Accuracy = \" ,accu_knn*100, \"%\")"
      ],
      "execution_count": 121,
      "outputs": [
        {
          "output_type": "stream",
          "text": [
            "Accuracy =  67.5 %\n"
          ],
          "name": "stdout"
        }
      ]
    },
    {
      "cell_type": "code",
      "metadata": {
        "colab_type": "code",
        "id": "RX3zlRt5Nzm5",
        "outputId": "994e1d10-8d78-4fdf-aa64-109ebda78cf4",
        "colab": {
          "base_uri": "https://localhost:8080/",
          "height": 33
        }
      },
      "source": [
        "neigh.score(X_test, y_test)"
      ],
      "execution_count": 122,
      "outputs": [
        {
          "output_type": "execute_result",
          "data": {
            "text/plain": [
              "0.675"
            ]
          },
          "metadata": {
            "tags": []
          },
          "execution_count": 122
        }
      ]
    },
    {
      "cell_type": "markdown",
      "metadata": {
        "colab_type": "text",
        "id": "12qbBiTp1Bda"
      },
      "source": [
        "**Cross Validation**"
      ]
    },
    {
      "cell_type": "markdown",
      "metadata": {
        "colab_type": "text",
        "id": "gStJc8Xt1Z48"
      },
      "source": [
        "Cross-validation consists in repetively splitting the data in pairs of train and test sets, called ‘folds’. Scikit-learn comes with a function to automatically compute score on all these folds. Here we do KFold with k=5."
      ]
    },
    {
      "cell_type": "code",
      "metadata": {
        "colab_type": "code",
        "id": "vgu2dEwq1MvT",
        "colab": {}
      },
      "source": [
        "np.random.shuffle(train_coding_noncoding1)\n",
        "np.random.shuffle(test_coding_noncoding1)"
      ],
      "execution_count": 0,
      "outputs": []
    },
    {
      "cell_type": "code",
      "metadata": {
        "colab_type": "code",
        "id": "ulwRSk8R1QHb",
        "colab": {}
      },
      "source": [
        "X_train=train_coding_noncoding1.iloc[:,:-1]\n",
        "X_test=test_coding_noncoding1.iloc[:,:-1]\n",
        "y_train=train_coding_noncoding1.iloc[:,-1]\n",
        "y_test=test_coding_noncoding1.iloc[:,-1]"
      ],
      "execution_count": 0,
      "outputs": []
    },
    {
      "cell_type": "code",
      "metadata": {
        "colab_type": "code",
        "id": "ncRADgwy06d7",
        "colab": {
          "base_uri": "https://localhost:8080/",
          "height": 33
        },
        "outputId": "b2fb3a4b-ee38-460c-eb74-8cb9a7d9ab88"
      },
      "source": [
        "from sklearn.model_selection import ShuffleSplit\n",
        "cv = ShuffleSplit(n_splits=5)\n",
        "cross_val_knn=cross_val_score(neigh,X_train, y_train, cv=cv)\n",
        "cross_val_knn"
      ],
      "execution_count": 124,
      "outputs": [
        {
          "output_type": "execute_result",
          "data": {
            "text/plain": [
              "array([0.875, 1.   , 1.   , 0.625, 0.75 ])"
            ]
          },
          "metadata": {
            "tags": []
          },
          "execution_count": 124
        }
      ]
    },
    {
      "cell_type": "code",
      "metadata": {
        "colab_type": "code",
        "id": "S_LiZSJ95nf8",
        "outputId": "7e90d05b-6a33-4b85-9ec5-b52965cb0afc",
        "colab": {
          "base_uri": "https://localhost:8080/",
          "height": 137
        }
      },
      "source": [
        "df_result['KNN']=pd.Series({'Accuracy':accu_knn,'Cross_Validation':cross_val_knn,'Confusion_Matrix':cm_knn})\n",
        "df_result"
      ],
      "execution_count": 125,
      "outputs": [
        {
          "output_type": "execute_result",
          "data": {
            "text/html": [
              "<div>\n",
              "<style scoped>\n",
              "    .dataframe tbody tr th:only-of-type {\n",
              "        vertical-align: middle;\n",
              "    }\n",
              "\n",
              "    .dataframe tbody tr th {\n",
              "        vertical-align: top;\n",
              "    }\n",
              "\n",
              "    .dataframe thead th {\n",
              "        text-align: right;\n",
              "    }\n",
              "</style>\n",
              "<table border=\"1\" class=\"dataframe\">\n",
              "  <thead>\n",
              "    <tr style=\"text-align: right;\">\n",
              "      <th></th>\n",
              "      <th>NaiveBayes</th>\n",
              "      <th>logistic regression</th>\n",
              "      <th>KNN</th>\n",
              "      <th>Perceptron</th>\n",
              "    </tr>\n",
              "  </thead>\n",
              "  <tbody>\n",
              "    <tr>\n",
              "      <th>Accuracy</th>\n",
              "      <td>0.6</td>\n",
              "      <td>0.975</td>\n",
              "      <td>0.675</td>\n",
              "      <td>NaN</td>\n",
              "    </tr>\n",
              "    <tr>\n",
              "      <th>Cross_Validation</th>\n",
              "      <td>[0.9375, 1.0, 1.0, 0.9375, 0.625]</td>\n",
              "      <td>[0.75, 1.0, 1.0, 1.0, 1.0]</td>\n",
              "      <td>[0.875, 1.0, 1.0, 0.625, 0.75]</td>\n",
              "      <td>NaN</td>\n",
              "    </tr>\n",
              "    <tr>\n",
              "      <th>Confusion_Matrix</th>\n",
              "      <td>[[4, 16], [0, 20]]</td>\n",
              "      <td>[[20, 0], [1, 19]]</td>\n",
              "      <td>[[7, 13], [0, 20]]</td>\n",
              "      <td>NaN</td>\n",
              "    </tr>\n",
              "  </tbody>\n",
              "</table>\n",
              "</div>"
            ],
            "text/plain": [
              "                                         NaiveBayes  ... Perceptron\n",
              "Accuracy                                        0.6  ...        NaN\n",
              "Cross_Validation  [0.9375, 1.0, 1.0, 0.9375, 0.625]  ...        NaN\n",
              "Confusion_Matrix                 [[4, 16], [0, 20]]  ...        NaN\n",
              "\n",
              "[3 rows x 4 columns]"
            ]
          },
          "metadata": {
            "tags": []
          },
          "execution_count": 125
        }
      ]
    },
    {
      "cell_type": "code",
      "metadata": {
        "colab_type": "code",
        "id": "tQTgc_bsRNa0",
        "colab": {}
      },
      "source": [
        "# 4- Perceptron"
      ],
      "execution_count": 0,
      "outputs": []
    },
    {
      "cell_type": "code",
      "metadata": {
        "id": "HiWdBNw6drRA",
        "colab_type": "code",
        "colab": {}
      },
      "source": [
        "X_train=train_coding_noncoding1.iloc[:,:-1]\n",
        "X_test=test_coding_noncoding1.iloc[:,:-1]\n",
        "y_train=train_coding_noncoding1.iloc[:,-1]\n",
        "y_test=test_coding_noncoding1.iloc[:,-1]"
      ],
      "execution_count": 0,
      "outputs": []
    },
    {
      "cell_type": "code",
      "metadata": {
        "colab_type": "code",
        "id": "R7zfY1s4_R4e",
        "outputId": "c6004695-6075-464b-d1dc-88352e72ae89",
        "colab": {
          "base_uri": "https://localhost:8080/",
          "height": 83
        }
      },
      "source": [
        "from sklearn.linear_model import Perceptron\n",
        "per=Perceptron(max_iter=100, eta0=0.1,shuffle=True)\n",
        "per.fit(X_train, y_train)\n",
        "Test_y=pd.Series(per.predict(X_test), name='y')"
      ],
      "execution_count": 133,
      "outputs": [
        {
          "output_type": "execute_result",
          "data": {
            "text/plain": [
              "Perceptron(alpha=0.0001, class_weight=None, early_stopping=False, eta0=0.1,\n",
              "           fit_intercept=True, max_iter=100, n_iter_no_change=5, n_jobs=None,\n",
              "           penalty=None, random_state=0, shuffle=True, tol=0.001,\n",
              "           validation_fraction=0.1, verbose=0, warm_start=False)"
            ]
          },
          "metadata": {
            "tags": []
          },
          "execution_count": 133
        }
      ]
    },
    {
      "cell_type": "code",
      "metadata": {
        "colab_type": "code",
        "id": "MSjJVaaoXwJa",
        "outputId": "dc567097-1c25-4b2b-f88b-05a6a20eb2d8",
        "colab": {
          "base_uri": "https://localhost:8080/",
          "height": 50
        }
      },
      "source": [
        "# confusion matrix\n",
        "os.chdir(home_path)\n",
        "from sklearn.metrics import confusion_matrix\n",
        "cm_per=confusion_matrix(y_test,Test_y)\n",
        "cm_per"
      ],
      "execution_count": 134,
      "outputs": [
        {
          "output_type": "execute_result",
          "data": {
            "text/plain": [
              "array([[17,  3],\n",
              "       [ 0, 20]])"
            ]
          },
          "metadata": {
            "tags": []
          },
          "execution_count": 134
        }
      ]
    },
    {
      "cell_type": "code",
      "metadata": {
        "colab_type": "code",
        "id": "HY3q7HLOXwfX",
        "outputId": "b78b2a4e-6987-4c84-adaf-be7c60f41710",
        "colab": {
          "base_uri": "https://localhost:8080/",
          "height": 297
        }
      },
      "source": [
        "os.chdir(home_path)\n",
        "cm_picture4=sn.heatmap(pd.DataFrame(cm_per),cmap=\"Blues\", annot=True)\n",
        "figure4 = cm_picture4.get_figure()   \n",
        "plt.title(\"Confusion Matrix Perceptron\")\n",
        "figure4.savefig('/content/drive/My Drive/project/ML_cgr_data/Confusion_Perceptron.jpg', dpi=400)"
      ],
      "execution_count": 135,
      "outputs": [
        {
          "output_type": "execute_result",
          "data": {
            "text/plain": [
              "Text(0.5, 1.0, 'Confusion Matrix Perceptron')"
            ]
          },
          "metadata": {
            "tags": []
          },
          "execution_count": 135
        },
        {
          "output_type": "display_data",
          "data": {
            "image/png": "[encoded data removed]",
            "text/plain": [
              "<Figure size 432x288 with 2 Axes>"
            ]
          },
          "metadata": {
            "tags": [],
            "needs_background": "light"
          }
        }
      ]
    },
    {
      "cell_type": "code",
      "metadata": {
        "colab_type": "code",
        "id": "OqiFjvW7XwrJ",
        "outputId": "00c9aaf8-19ce-49df-cfad-ab3542f68cd1",
        "colab": {
          "base_uri": "https://localhost:8080/",
          "height": 33
        }
      },
      "source": [
        "per.score(X_test, y_test)"
      ],
      "execution_count": 136,
      "outputs": [
        {
          "output_type": "execute_result",
          "data": {
            "text/plain": [
              "0.925"
            ]
          },
          "metadata": {
            "tags": []
          },
          "execution_count": 136
        }
      ]
    },
    {
      "cell_type": "code",
      "metadata": {
        "colab_type": "code",
        "id": "qF5rDQ8dBiHc",
        "outputId": "1d350b42-b7e7-4003-d80f-cfbfadf9bde4",
        "colab": {
          "base_uri": "https://localhost:8080/",
          "height": 33
        }
      },
      "source": [
        "#Calculate Accuracy and Print it\n",
        "accu_per=sum([1 for i, j in zip(Test_y, y_test) if i == j])/len(y_test)\n",
        "print(\"Accuracy = \" ,accu_per*100, \"%\")"
      ],
      "execution_count": 137,
      "outputs": [
        {
          "output_type": "stream",
          "text": [
            "Accuracy =  92.5 %\n"
          ],
          "name": "stdout"
        }
      ]
    },
    {
      "cell_type": "code",
      "metadata": {
        "colab_type": "code",
        "id": "XR_e6qziHvFR",
        "outputId": "c73fcba9-22fe-406d-8c0c-a05042e2ab71",
        "colab": {
          "base_uri": "https://localhost:8080/",
          "height": 33
        }
      },
      "source": [
        "# calculating the mean R^2 for a set of predictions:\n",
        "results_per = model_selection.cross_val_score(per, X_train, y_train,cv=5, scoring='r2')\n",
        "results_per"
      ],
      "execution_count": 138,
      "outputs": [
        {
          "output_type": "execute_result",
          "data": {
            "text/plain": [
              "array([0.5 , 1.  , 1.  , 0.75, 1.  ])"
            ]
          },
          "metadata": {
            "tags": []
          },
          "execution_count": 138
        }
      ]
    },
    {
      "cell_type": "code",
      "metadata": {
        "colab_type": "code",
        "id": "9tWp80la6P5U",
        "outputId": "3fe6039c-85d8-437a-e7d8-4e67c009d8f3",
        "colab": {
          "base_uri": "https://localhost:8080/",
          "height": 137
        }
      },
      "source": [
        "df_result['Perceptron']=pd.Series({'Accuracy':accu_per,'Cross_Validation':results_per,'Confusion_Matrix':cm_per})\n",
        "df_result"
      ],
      "execution_count": 139,
      "outputs": [
        {
          "output_type": "execute_result",
          "data": {
            "text/html": [
              "<div>\n",
              "<style scoped>\n",
              "    .dataframe tbody tr th:only-of-type {\n",
              "        vertical-align: middle;\n",
              "    }\n",
              "\n",
              "    .dataframe tbody tr th {\n",
              "        vertical-align: top;\n",
              "    }\n",
              "\n",
              "    .dataframe thead th {\n",
              "        text-align: right;\n",
              "    }\n",
              "</style>\n",
              "<table border=\"1\" class=\"dataframe\">\n",
              "  <thead>\n",
              "    <tr style=\"text-align: right;\">\n",
              "      <th></th>\n",
              "      <th>NaiveBayes</th>\n",
              "      <th>logistic regression</th>\n",
              "      <th>KNN</th>\n",
              "      <th>Perceptron</th>\n",
              "    </tr>\n",
              "  </thead>\n",
              "  <tbody>\n",
              "    <tr>\n",
              "      <th>Accuracy</th>\n",
              "      <td>0.6</td>\n",
              "      <td>0.975</td>\n",
              "      <td>0.675</td>\n",
              "      <td>0.925</td>\n",
              "    </tr>\n",
              "    <tr>\n",
              "      <th>Cross_Validation</th>\n",
              "      <td>[0.9375, 1.0, 1.0, 0.9375, 0.625]</td>\n",
              "      <td>[0.75, 1.0, 1.0, 1.0, 1.0]</td>\n",
              "      <td>[0.875, 1.0, 1.0, 0.625, 0.75]</td>\n",
              "      <td>[0.5, 1.0, 1.0, 0.75, 1.0]</td>\n",
              "    </tr>\n",
              "    <tr>\n",
              "      <th>Confusion_Matrix</th>\n",
              "      <td>[[4, 16], [0, 20]]</td>\n",
              "      <td>[[20, 0], [1, 19]]</td>\n",
              "      <td>[[7, 13], [0, 20]]</td>\n",
              "      <td>[[17, 3], [0, 20]]</td>\n",
              "    </tr>\n",
              "  </tbody>\n",
              "</table>\n",
              "</div>"
            ],
            "text/plain": [
              "                                         NaiveBayes  ...                  Perceptron\n",
              "Accuracy                                        0.6  ...                       0.925\n",
              "Cross_Validation  [0.9375, 1.0, 1.0, 0.9375, 0.625]  ...  [0.5, 1.0, 1.0, 0.75, 1.0]\n",
              "Confusion_Matrix                 [[4, 16], [0, 20]]  ...          [[17, 3], [0, 20]]\n",
              "\n",
              "[3 rows x 4 columns]"
            ]
          },
          "metadata": {
            "tags": []
          },
          "execution_count": 139
        }
      ]
    },
    {
      "cell_type": "markdown",
      "metadata": {
        "colab_type": "text",
        "id": "Et-fcch72wZX"
      },
      "source": [
        "# Fifth: Model Selection"
      ]
    },
    {
      "cell_type": "markdown",
      "metadata": {
        "colab_type": "text",
        "id": "dRqa1LH_7jHf"
      },
      "source": [
        "In This project we try to select best model for coding/noncoding DNA detection by two methods:\n",
        "1. from built in outsource function from (https://scipy-lectures.org/packages/scikit-learn/index.html)\n",
        "2. aggergate above result from each model in new data frame called **df_result**"
      ]
    },
    {
      "cell_type": "code",
      "metadata": {
        "colab_type": "code",
        "id": "Ky_aecXZ7iOx",
        "colab": {}
      },
      "source": [
        "# 1. outsourcing code"
      ],
      "execution_count": 0,
      "outputs": []
    },
    {
      "cell_type": "code",
      "metadata": {
        "colab_type": "code",
        "id": "HsEG_dpF2vEd",
        "outputId": "9345c640-51a2-41ba-9e71-cb3c3d693973",
        "colab": {
          "base_uri": "https://localhost:8080/",
          "height": 85
        }
      },
      "source": [
        "from sklearn import model_selection\n",
        "from sklearn import metrics\n",
        "for Model in [GaussianNB, LogisticRegression,KNeighborsClassifier,Perceptron]:\n",
        "    clfsa = Model().fit(X_train, y_train)\n",
        "    y_pred_model = clfsa.predict(X_test)\n",
        "    print('%s: %s' % \n",
        "          (Model.__name__, metrics.f1_score(y_pred_model, y_test, average=\"macro\"))) "
      ],
      "execution_count": 0,
      "outputs": [
        {
          "output_type": "stream",
          "text": [
            "GaussianNB: 0.5238095238095238\n",
            "LogisticRegression: 0.9749843652282677\n",
            "KNeighborsClassifier: 0.5054545454545454\n",
            "Perceptron: 0.9245757385292268\n"
          ],
          "name": "stdout"
        }
      ]
    },
    {
      "cell_type": "code",
      "metadata": {
        "colab_type": "code",
        "id": "SLGIwNwK5Kjj",
        "colab": {}
      },
      "source": [
        "# 2. Create df_result to collect result on it:"
      ],
      "execution_count": 0,
      "outputs": []
    },
    {
      "cell_type": "code",
      "metadata": {
        "colab_type": "code",
        "id": "WCY1pWBU9Dn8",
        "outputId": "b9268a33-d83b-4764-b8b1-8498ff8c6eca",
        "colab": {
          "base_uri": "https://localhost:8080/",
          "height": 137
        }
      },
      "source": [
        "df_result"
      ],
      "execution_count": 140,
      "outputs": [
        {
          "output_type": "execute_result",
          "data": {
            "text/html": [
              "<div>\n",
              "<style scoped>\n",
              "    .dataframe tbody tr th:only-of-type {\n",
              "        vertical-align: middle;\n",
              "    }\n",
              "\n",
              "    .dataframe tbody tr th {\n",
              "        vertical-align: top;\n",
              "    }\n",
              "\n",
              "    .dataframe thead th {\n",
              "        text-align: right;\n",
              "    }\n",
              "</style>\n",
              "<table border=\"1\" class=\"dataframe\">\n",
              "  <thead>\n",
              "    <tr style=\"text-align: right;\">\n",
              "      <th></th>\n",
              "      <th>NaiveBayes</th>\n",
              "      <th>logistic regression</th>\n",
              "      <th>KNN</th>\n",
              "      <th>Perceptron</th>\n",
              "    </tr>\n",
              "  </thead>\n",
              "  <tbody>\n",
              "    <tr>\n",
              "      <th>Accuracy</th>\n",
              "      <td>0.6</td>\n",
              "      <td>0.975</td>\n",
              "      <td>0.675</td>\n",
              "      <td>0.925</td>\n",
              "    </tr>\n",
              "    <tr>\n",
              "      <th>Cross_Validation</th>\n",
              "      <td>[0.9375, 1.0, 1.0, 0.9375, 0.625]</td>\n",
              "      <td>[0.75, 1.0, 1.0, 1.0, 1.0]</td>\n",
              "      <td>[0.875, 1.0, 1.0, 0.625, 0.75]</td>\n",
              "      <td>[0.5, 1.0, 1.0, 0.75, 1.0]</td>\n",
              "    </tr>\n",
              "    <tr>\n",
              "      <th>Confusion_Matrix</th>\n",
              "      <td>[[4, 16], [0, 20]]</td>\n",
              "      <td>[[20, 0], [1, 19]]</td>\n",
              "      <td>[[7, 13], [0, 20]]</td>\n",
              "      <td>[[17, 3], [0, 20]]</td>\n",
              "    </tr>\n",
              "  </tbody>\n",
              "</table>\n",
              "</div>"
            ],
            "text/plain": [
              "                                         NaiveBayes  ...                  Perceptron\n",
              "Accuracy                                        0.6  ...                       0.925\n",
              "Cross_Validation  [0.9375, 1.0, 1.0, 0.9375, 0.625]  ...  [0.5, 1.0, 1.0, 0.75, 1.0]\n",
              "Confusion_Matrix                 [[4, 16], [0, 20]]  ...          [[17, 3], [0, 20]]\n",
              "\n",
              "[3 rows x 4 columns]"
            ]
          },
          "metadata": {
            "tags": []
          },
          "execution_count": 140
        }
      ]
    },
    {
      "cell_type": "markdown",
      "metadata": {
        "colab_type": "text",
        "id": "gZoey-u2C-JH"
      },
      "source": [
        "# **Conclusion**:"
      ]
    },
    {
      "cell_type": "markdown",
      "metadata": {
        "colab_type": "text",
        "id": "LrHj5vISDJ4E"
      },
      "source": [
        " In conclusion, from point 1 and 2 , this project conclude **logistic regression** then **Perceptron** ( supervised learning, linear clasifier ) is the best model for detecting coding DNA sequences from noncoding DNA sequences using chaos game represntation approach. may be because the logistic regression & perceptron is an algorithms for learning a binary classifier, and gradient descent to reach best decision boundary."
      ]
    }
  ]
}